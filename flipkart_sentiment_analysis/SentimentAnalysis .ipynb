{
 "cells": [
  {
   "cell_type": "code",
   "execution_count": 1,
   "id": "9b18d8ad",
   "metadata": {},
   "outputs": [],
   "source": [
    "import pandas as pd"
   ]
  },
  {
   "cell_type": "code",
   "execution_count": 7,
   "id": "58a7966b",
   "metadata": {},
   "outputs": [],
   "source": [
    "import seaborn as sns\n",
    "#Python data visualization library based on matplotlib. It provides a high-level interface for drawing attractive and informative statistical graphics\n",
    "import matplotlib.pyplot as plt\n",
    "from nltk.sentiment.vader import SentimentIntensityAnalyzer\n",
    "#platform used for building Python programs that work with human language data for applying in statistical natural language processing (NLP). It contains text processing libraries for tokenization, parsing, classification, stemming, tagging and semantic reasoning.\n",
    "from wordcloud import WordCloud, STOPWORDS, ImageColorGenerator\n",
    "#data visualization technique used for representing text data in which the size of each word indicates its frequency or importance.\n",
    "data = pd.read_csv(\"data.csv\")\n"
   ]
  },
  {
   "cell_type": "code",
   "execution_count": 8,
   "id": "dfdccdf7",
   "metadata": {},
   "outputs": [
    {
     "name": "stdout",
     "output_type": "stream",
     "text": [
      "                                        Product_name  \\\n",
      "0  Lenovo Ideapad Gaming 3 Ryzen 5 Hexa Core 5600...   \n",
      "1  Lenovo Ideapad Gaming 3 Ryzen 5 Hexa Core 5600...   \n",
      "2  Lenovo Ideapad Gaming 3 Ryzen 5 Hexa Core 5600...   \n",
      "3  DELL Inspiron Athlon Dual Core 3050U - (4 GB/2...   \n",
      "4  DELL Inspiron Athlon Dual Core 3050U - (4 GB/2...   \n",
      "\n",
      "                                              Review  Rating  \n",
      "0  Best under 60k Great performanceI got it for a...       5  \n",
      "1                                 Good perfomence...       5  \n",
      "2  Great performance but usually it has also that...       5  \n",
      "3           My wife is so happy and best product 👌🏻😘       5  \n",
      "4  Light weight laptop with new amazing features,...       5  \n"
     ]
    }
   ],
   "source": [
    "print(data.head())"
   ]
  },
  {
   "cell_type": "code",
   "execution_count": 10,
   "id": "90cc2361",
   "metadata": {},
   "outputs": [
    {
     "name": "stdout",
     "output_type": "stream",
     "text": [
      "Product_name    0\n",
      "Review          0\n",
      "Rating          0\n",
      "dtype: int64\n"
     ]
    }
   ],
   "source": [
    "print(data.isnull().sum())\n",
    "#to check if any data is missing"
   ]
  },
  {
   "cell_type": "code",
   "execution_count": null,
   "id": "8941e432",
   "metadata": {},
   "outputs": [],
   "source": []
  }
 ],
 "metadata": {
  "kernelspec": {
   "display_name": "Python 3 (ipykernel)",
   "language": "python",
   "name": "python3"
  },
  "language_info": {
   "codemirror_mode": {
    "name": "ipython",
    "version": 3
   },
   "file_extension": ".py",
   "mimetype": "text/x-python",
   "name": "python",
   "nbconvert_exporter": "python",
   "pygments_lexer": "ipython3",
   "version": "3.9.6"
  }
 },
 "nbformat": 4,
 "nbformat_minor": 5
}
